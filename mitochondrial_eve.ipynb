{
 "cells": [
  {
   "cell_type": "markdown",
   "metadata": {},
   "source": [
    "### Question: After how many generations do all the survived descendants originate from the same ancestor? "
   ]
  },
  {
   "cell_type": "code",
   "execution_count": 1,
   "metadata": {},
   "outputs": [],
   "source": [
    "import numpy as np\n",
    "from tqdm import tnrange\n",
    "import matplotlib.pyplot as plt"
   ]
  },
  {
   "cell_type": "code",
   "execution_count": 2,
   "metadata": {},
   "outputs": [],
   "source": [
    "initial_parents_num = 100\n",
    "roll_out_number = 100"
   ]
  },
  {
   "cell_type": "code",
   "execution_count": 3,
   "metadata": {},
   "outputs": [],
   "source": [
    "def reproduction(parents_num):\n",
    "    children = np.random.randint(2, size=2*parents_num)\n",
    "    return children"
   ]
  },
  {
   "cell_type": "code",
   "execution_count": 4,
   "metadata": {
    "scrolled": true
   },
   "outputs": [
    {
     "data": {
      "application/vnd.jupyter.widget-view+json": {
       "model_id": "a1691e3d888d45c69f262e1a34c3b3c8",
       "version_major": 2,
       "version_minor": 0
      },
      "text/plain": [
       "HBox(children=(IntProgress(value=0), HTML(value='')))"
      ]
     },
     "metadata": {},
     "output_type": "display_data"
    },
    {
     "name": "stdout",
     "output_type": "stream",
     "text": [
      "\n"
     ]
    },
    {
     "data": {
      "text/plain": [
       "347.23"
      ]
     },
     "execution_count": 4,
     "metadata": {},
     "output_type": "execute_result"
    }
   ],
   "source": [
    "# TODO: consider the case in which the roll out won't terminate\n",
    "\n",
    "generation_count_list = []\n",
    "parents_dict = dict()\n",
    "\n",
    "for _ in tnrange(roll_out_number):\n",
    "    parents_num = initial_parents_num\n",
    "    \n",
    "    generation_count = 0\n",
    "    init_sub_ancestor = 1\n",
    "    \n",
    "    for i in range(initial_parents_num):\n",
    "        parents_dict[i] = init_sub_ancestor\n",
    "    \n",
    "    while True: \n",
    "#         print(f'{generation_count}th generation')\n",
    "        for p in range(initial_parents_num):\n",
    "            \n",
    "            children = list(reproduction(parents_dict[p]))\n",
    "#             print(p, children)\n",
    "            parents_dict[p] = children.count(1) #binomial distribution, p=0.5, N=parents_dict[p]\n",
    "#             print(parants_dict[p])\n",
    "        \n",
    "        if list(parents_dict.values()).count(0) == (initial_parents_num - 1):\n",
    "            break\n",
    "        \n",
    "        generation_count += 1\n",
    "        \n",
    "#         print(parants_dict)\n",
    "    generation_count_list.append(generation_count)\n",
    "np.average(generation_count_list)"
   ]
  },
  {
   "cell_type": "code",
   "execution_count": 5,
   "metadata": {
    "scrolled": true
   },
   "outputs": [
    {
     "data": {
      "image/png": "[encoded data removed]",
      "text/plain": [
       "<Figure size 432x288 with 1 Axes>"
      ]
     },
     "metadata": {
      "needs_background": "light"
     },
     "output_type": "display_data"
    }
   ],
   "source": [
    "fig, ax = plt.subplots()\n",
    "ax.scatter(np.arange(len(generation_count_list)), sorted(generation_count_list))\n",
    "plt.show()"
   ]
  },
  {
   "cell_type": "code",
   "execution_count": 6,
   "metadata": {},
   "outputs": [
    {
     "data": {
      "image/png": "[encoded data removed]",
      "text/plain": [
       "<Figure size 432x288 with 1 Axes>"
      ]
     },
     "metadata": {
      "needs_background": "light"
     },
     "output_type": "display_data"
    }
   ],
   "source": [
    "fig, ax = plt.subplots()\n",
    "ax.plot(sorted(generation_count_list), np.linspace(0, 1, len(generation_count_list)))\n",
    "ax.set_xticklabels(np.arange(0, 1100, 100))\n",
    "ax.set_yticks(np.arange(0, 1.1, 0.1))\n",
    "ax.grid()\n",
    "ax.set_xlabel('generation count')\n",
    "ax.set_ylabel('generation proportion')\n",
    "plt.show()"
   ]
  },
  {
   "cell_type": "code",
   "execution_count": 7,
   "metadata": {},
   "outputs": [
    {
     "data": {
      "image/png": "[encoded data removed]",
      "text/plain": [
       "<Figure size 432x288 with 1 Axes>"
      ]
     },
     "metadata": {
      "needs_background": "light"
     },
     "output_type": "display_data"
    }
   ],
   "source": [
    "fig, ax = plt.subplots()\n",
    "generation_count_list = [count for count in generation_count_list if count <1000]\n",
    "ax.hist(generation_count_list, 20)\n",
    "plt.show()"
   ]
  },
  {
   "cell_type": "markdown",
   "metadata": {},
   "source": [
    "### Birthday Problem"
   ]
  },
  {
   "cell_type": "code",
   "execution_count": null,
   "metadata": {},
   "outputs": [],
   "source": [
    "def p_birthday_among_n_people(n):\n",
    "    p = 1\n",
    "    for i in range(n):\n",
    "        p *= (365-i)/365\n",
    "    return (1 - p) "
   ]
  },
  {
   "cell_type": "code",
   "execution_count": null,
   "metadata": {},
   "outputs": [],
   "source": [
    "p_birthday_among_n_people(70)"
   ]
  },
  {
   "cell_type": "code",
   "execution_count": null,
   "metadata": {},
   "outputs": [],
   "source": [
    "p_list = []\n",
    "for n in range(2, 300):\n",
    "    p_list.append(p_birthday_among_n_people(n))\n",
    "fig, ax = plt.subplots()\n",
    "ax.plot(p_list)\n",
    "plt.show()"
   ]
  },
  {
   "cell_type": "code",
   "execution_count": null,
   "metadata": {},
   "outputs": [],
   "source": []
  }
 ],
 "metadata": {
  "kernelspec": {
   "display_name": "Python (data_exp_3.7)",
   "language": "python",
   "name": "data_exp_3.7"
  },
  "language_info": {
   "codemirror_mode": {
    "name": "ipython",
    "version": 3
   },
   "file_extension": ".py",
   "mimetype": "text/x-python",
   "name": "python",
   "nbconvert_exporter": "python",
   "pygments_lexer": "ipython3",
   "version": "3.7.3"
  }
 },
 "nbformat": 4,
 "nbformat_minor": 2
}
