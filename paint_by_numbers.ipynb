{
 "cells": [
  {
   "cell_type": "markdown",
   "metadata": {},
   "source": [
    "### inspiration from the diy image site: https://www.diy-malennachzahlen.de/\n",
    "- reduce the resolution of a picutre\n",
    "- draw the contour of the picture\n",
    "- found the programming task here: https://codegolf.stackexchange.com/questions/42217/paint-by-numbers"
   ]
  },
  {
   "cell_type": "code",
   "execution_count": null,
   "metadata": {},
   "outputs": [],
   "source": [
    "import cv2\n",
    "import matplotlib.pyplot as plt\n",
    "import numpy as np\n",
    "from itertools import product\n",
    "from skimage import io, color"
   ]
  },
  {
   "cell_type": "code",
   "execution_count": null,
   "metadata": {
    "scrolled": true
   },
   "outputs": [],
   "source": [
    "# image = cv2.imread(\"800px-Great_Wave_off_Kanagawa2.jpg\")\n",
    "origin_image= plt.imread(\"Brown_bear_(Ursus_arctos_arctos)_running.jpg\")\n",
    "image = origin_image.copy()\n",
    "plt.axis(\"off\")\n",
    "plt.imshow(origin_image)\n",
    "plt.show()"
   ]
  },
  {
   "cell_type": "code",
   "execution_count": null,
   "metadata": {
    "scrolled": true
   },
   "outputs": [],
   "source": [
    "pixel1 = image[1][2]\n",
    "pixel2 = image[2][3]"
   ]
  },
  {
   "cell_type": "code",
   "execution_count": null,
   "metadata": {},
   "outputs": [],
   "source": [
    "pixel1"
   ]
  },
  {
   "cell_type": "code",
   "execution_count": null,
   "metadata": {},
   "outputs": [],
   "source": [
    "image.shape"
   ]
  },
  {
   "cell_type": "code",
   "execution_count": null,
   "metadata": {},
   "outputs": [],
   "source": [
    "def euclide_distance(pixel1, pixel2):\n",
    "    return np.sqrt((pixel1[0] - pixel2[0])**2 +(pixel1[1] - pixel2[1])**2 + (pixel1[2] - [pixel2[2]])**2)"
   ]
  },
  {
   "cell_type": "code",
   "execution_count": null,
   "metadata": {},
   "outputs": [],
   "source": [
    "euclide_distance(pixel1, pixel2)"
   ]
  },
  {
   "cell_type": "code",
   "execution_count": null,
   "metadata": {},
   "outputs": [],
   "source": [
    "target_color = np.array([(i, j, k) \n",
    "                         for i in range(10) \n",
    "                         for j in range(10) for k in range(10)])\n",
    "replacement_color = np.array([0, 0 ,0])"
   ]
  },
  {
   "cell_type": "code",
   "execution_count": null,
   "metadata": {
    "scrolled": true
   },
   "outputs": [],
   "source": [
    "flood_fill(image, 1, 2, target_color, replacement_color)"
   ]
  },
  {
   "cell_type": "code",
   "execution_count": null,
   "metadata": {},
   "outputs": [],
   "source": [
    "random_array = np.random.randint(254, 256, size=(547, 800, 3))\n",
    "# print(f'original random array: {random_array}')\n",
    "\n",
    "fig, axs = plt.subplots(1, 2)\n",
    "axs[0].imshow(random_array)\n",
    "plt.imshow(random_array)\n",
    "target = np.array([255, 255, 255])\n",
    "replacement = np.array([0, 0, 0])\n",
    "flood_fill(random_array, 2, 3, target, replacement_color)\n",
    "axs[1].imshow(random_array)\n",
    "# print(f'current random array: {random_array}')"
   ]
  },
  {
   "cell_type": "code",
   "execution_count": null,
   "metadata": {
    "scrolled": true
   },
   "outputs": [],
   "source": [
    "queries = 5\n",
    "action_sequences = list(product([0, 1, 2, 3, 4], repeat=2))\n",
    "action_sequences"
   ]
  },
  {
   "cell_type": "markdown",
   "metadata": {},
   "source": [
    "### gray scale the image"
   ]
  },
  {
   "cell_type": "code",
   "execution_count": null,
   "metadata": {},
   "outputs": [],
   "source": [
    "for w in range(image.shape[0]): \n",
    "    for h in range(image.shape[1]):\n",
    "        if any(image[w][h] >= 128):\n",
    "            image[w][h] = [255, 255, 255]\n",
    "        else:\n",
    "            image[w][h] = [0, 0, 0]"
   ]
  },
  {
   "cell_type": "code",
   "execution_count": null,
   "metadata": {},
   "outputs": [],
   "source": [
    "plt.imshow(image)"
   ]
  },
  {
   "cell_type": "code",
   "execution_count": null,
   "metadata": {},
   "outputs": [],
   "source": [
    "rgb = io.imread(\"800px-Great_Wave_off_Kanagawa2.jpg\")\n",
    "lab = color.rgb2lab(rgb)"
   ]
  },
  {
   "cell_type": "code",
   "execution_count": null,
   "metadata": {},
   "outputs": [],
   "source": [
    "min([lab[w][h][c] for w in range(lab.shape[0]) for h in range(lab.shape[1]) for c in range(lab.shape[2])])"
   ]
  },
  {
   "cell_type": "markdown",
   "metadata": {},
   "source": [
    "### flood fill"
   ]
  },
  {
   "cell_type": "code",
   "execution_count": null,
   "metadata": {
    "scrolled": true
   },
   "outputs": [],
   "source": [
    "image2 = origin_image.copy()\n",
    "# img = image2.transpose(2,0,1)\n",
    "\n",
    "# print(img.shape)\n",
    "\n",
    "\n",
    "# pads = ((1, 1), (1, 1))\n",
    "\n",
    "# img_arr = np.ndarray((3, 549, 802), np.int)\n",
    "# for i,x in enumerate(img):\n",
    "#     cons = np.int(np.median(x))\n",
    "#     x_p = np.pad(x,pads,\n",
    "#                 'constant', \n",
    "#                  constant_values=1)\n",
    "#     img_arr[i,:,:] = x_p\n",
    "\n",
    "# ii = np.uint8(img_arr).transpose(1,2,0)\n",
    "\n",
    "# plt.imshow(ii)\n"
   ]
  },
  {
   "cell_type": "code",
   "execution_count": null,
   "metadata": {},
   "outputs": [],
   "source": [
    "THREADSHOLD = 1000"
   ]
  },
  {
   "cell_type": "code",
   "execution_count": null,
   "metadata": {},
   "outputs": [],
   "source": [
    "for h in range(image2.shape[0]):\n",
    "    for w in range(image2.shape[1]):\n",
    "        \n",
    "        # if the color differece between the cell and its right/left/up/down neighbor is smaller than the threadshold, \n",
    "        # replace the color of the cell with its right/left/up/down neighbor's color\n",
    "        if w+1<image2.shape[1] and euclide_distance(image2[h][w], image2[h][w+1]) < THREADSHOLD:\n",
    "            image2[h][w] = image2[h][w+1]\n",
    "            print(f'replace the color of the cell {image2[h][w]} with its right neighbor')\n",
    "        \n",
    "        if w-1>=0 and euclide_distance(image2[h][w], image2[h][w-1]) < THREADSHOLD:\n",
    "            image2[h][w] = image2[h][w-1]\n",
    "            print(f'replace the color of the cell {image2[h][w]} with its left neighbor')\n",
    "        \n",
    "        if h-1>=0 and euclide_distance(image2[h][w], image2[h-1][w]) < THREADSHOLD:\n",
    "            image2[h][w] = image2[h-1][w]\n",
    "            print(f'replace the color of the cell {image2[h][w]} with its up neighbor')\n",
    "        \n",
    "        if h+1<image2.shape[0] and euclide_distance(image2[h][w], image2[h+1][w]) < THREADSHOLD:\n",
    "            image2[h][w] = image2[h+1][w]\n",
    "            print(f'replace the color of the cell {image2[h][w]} with its down neighbor')\n",
    "    "
   ]
  },
  {
   "cell_type": "code",
   "execution_count": null,
   "metadata": {},
   "outputs": [],
   "source": [
    "plt.imshow(image2)"
   ]
  },
  {
   "cell_type": "code",
   "execution_count": null,
   "metadata": {},
   "outputs": [],
   "source": []
  }
 ],
 "metadata": {
  "kernelspec": {
   "display_name": "Python (data_exp_3.7)",
   "language": "python",
   "name": "data_exp_3.7"
  },
  "language_info": {
   "codemirror_mode": {
    "name": "ipython",
    "version": 3
   },
   "file_extension": ".py",
   "mimetype": "text/x-python",
   "name": "python",
   "nbconvert_exporter": "python",
   "pygments_lexer": "ipython3",
   "version": "3.7.3"
  }
 },
 "nbformat": 4,
 "nbformat_minor": 2
}
